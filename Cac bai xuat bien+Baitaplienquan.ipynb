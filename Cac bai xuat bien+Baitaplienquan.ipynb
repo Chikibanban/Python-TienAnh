{
 "cells": [
  {
   "cell_type": "code",
   "execution_count": 11,
   "metadata": {},
   "outputs": [
    {
     "name": "stdout",
     "output_type": "stream",
     "text": [
      "Chu vi hinh tron la = 200.96\n",
      "Dien tich tron la = 200.96\n"
     ]
    }
   ],
   "source": [
    "def phanso():\n",
    "    import fractions as fr\n",
    "    print (fr.Fraction(4,5))\n",
    "    #tao phan so tu so nguyen\n",
    "    print('tao phan so tu so nguyen')\n",
    "    print (fr.Fraction(9))\n",
    "    #tao phan so tu toan tu co mau so\n",
    "    print ('tao phan so tu toan tu co mau so')\n",
    "    print (fr.Fraction(2,5))\n",
    "    #tao phan so thuc\n",
    "    print(fr.Fraction(2.3))\n",
    "def toanhoc():\n",
    "    import math\n",
    "    print ('xuat so pi ra man hinh')\n",
    "    print (math.pi)\n",
    "def tinhSPTamGiac():\n",
    "    import math\n",
    "    #ep kieu du lieu\n",
    "    canha = float(input(\"nhap canh a:=\"))\n",
    "    canhb = float(input(\"nhap canh b:=\"))\n",
    "    canhc = float(input(\"nhap canh c:=\"))\n",
    "    s = (canha + canhb + canhc) / 2\n",
    "    dientich = math.sqrt (s*(s-canha)*(s-canhb)*(s-canhc))\n",
    "    print(s)\n",
    "    print (dientich)\n",
    "#mo rong: them dieu kien kiem tra 3 canh bat ky tao thanh tam giac\n",
    "    import math\n",
    "    #Dieu Kien\n",
    "    if canha + canhb>canhc and canha-canhb<canhc or canha+canhc>canhb and canha-canhc>canhb or canhb-canhc>canha and canhb+canhc>canha:\n",
    "        canha = float(input('nhap canh a:='))\n",
    "        canhb = float(input('nhap canh b:='))\n",
    "        canhc = float(input('nhap canh c:='))\n",
    "        TrianglePerimeter = canha + canhb+ canhc\n",
    "        TriangleArea = math.sqrt(TrianglePerimeter/2*(TrianglePerimeter/2-canha)*(TrianglePerimeter/2-canhb)*(TrianglePerimeter/2-canhc))\n",
    "        print('Chu vi tam giac la:' + str(TrianglePerimeter))\n",
    "        print (\"Dien tich tam giac la:\" + str(TriangleArea))\n",
    "    else:\n",
    "        print (\"tam giac ko ton tai\")\n",
    "\n",
    "#tinh chu vi va dien tich hinh vuong\n",
    "\n",
    "def tinhSPhinhvuong():\n",
    "    import math\n",
    "    canha = float(input(\"nhap canh a:=\"))\n",
    "    s = canha**2\n",
    "    p = canha*4\n",
    "    print(\"Chu vi hinh vuong la:\" + str(s))\n",
    "    print(\"Dien tich hinh vuong la:\"+ str(p))\n",
    "\n",
    "def tinhSPChunhat():\n",
    "    import math\n",
    "    canha = float(input('nhap canh a:='))\n",
    "    canhb = float(input('nhap canh b:='))\n",
    "    Chuvi = (canha+canhb)**2\n",
    "    DienTich = canha*canhb\n",
    "    print (\"Chu vi hinh chu nhat la:\" + str(Chuvi))\n",
    "    print (\"Dien tich hinh chu nhat la:\" + str(DienTich))\n",
    "def tinhSPTron():\n",
    "    import math\n",
    "    r = float(input('nhap ban kinh r:='))\n",
    "    pi = 3.14\n",
    "    Chuvi = DienTich = pi * r**2\n",
    "    print (\"Chu vi hinh tron la = %.2f\" %Chuvi)\n",
    "    print (\"Dien tich tron la = %.2f\" %DienTich)\n",
    "\n",
    "if __name__==\"__main__\":\n",
    "        #phanso()\n",
    "        #toanhoc()\n",
    "        #tinhSPTamGiac()\n",
    "        #tinhSPhinhvuong()\n",
    "        #tinhSPTron()"
   ]
  },
  {
   "cell_type": "code",
   "execution_count": 94,
   "metadata": {},
   "outputs": [],
   "source": [
    "#BaiTapVeMatCuoi\n",
    "def setting():\n",
    "    import turtle\n",
    "    t = turtle.Turtle()\n",
    "    t.speed(0)\n",
    "    t.pensize (6)\n",
    "    t.pencolor(\"white\")\n",
    "    turtle.bgcolor(\"black\")\n",
    "#Ve ban mat hinh tron tren\n",
    "    t.circle(100,180)\n",
    "    t.lt(90)\n",
    "    t.fd(200)\n",
    "#Ve ban mat hinh tron duoi    \n",
    "    t.rt(90)\n",
    "    t.circle(100,180)\n",
    "    t.lt(90)\n",
    "    t.fd(200)\n",
    "#Ve duong song cho moi mat\n",
    "#Mat tren:\n",
    "    t.penup()\n",
    "    t.goto(0,50)\n",
    "    t.right(90)\n",
    "    t.pendown()\n",
    "    for curve in range(4):\n",
    "        t.rt(65)\n",
    "        t.fd(10)\n",
    "        t.lt(85)\n",
    "        t.fd(15)\n",
    "#Mat duoi:   \n",
    "    t.penup()\n",
    "    t.goto(0,-50)\n",
    "    t.pendown()\n",
    "    t.lt(90)\n",
    "    t.circle(50,100)\n",
    "#Ve mat cho mat tren\n",
    "    t.penup()\n",
    "    t.goto(50,125)\n",
    "    t.rt(90)\n",
    "    t.pendown()\n",
    "    t.dot(10)\n",
    "#Ve mat cho mat duoi\n",
    "    t.penup()\n",
    "    t.goto(-50,-130)\n",
    "    t.pendown()\n",
    "    t.dot(10)\n",
    "\n",
    "\n",
    "    turtle.exitonclick()\n",
    "    \n",
    "if __name__ == \"__main__\":\n",
    "           setting()\n",
    "           \n",
    "    \n",
    "\n"
   ]
  },
  {
   "cell_type": "code",
   "execution_count": 118,
   "metadata": {},
   "outputs": [
    {
     "name": "stdout",
     "output_type": "stream",
     "text": [
      "Nhiet do duoi dang celsius la: 37.000\n"
     ]
    }
   ],
   "source": [
    "def chuyendoinhietdo():\n",
    "    f = float(input(\"Nhap nhiet do duoi dang Fahrenheit:\"))\n",
    "    c = ((f - 32) * 5/9)\n",
    "    print(\"Nhiet do duoi dang celsius la: %.3f\"%(c))\n",
    "if __name__==\"__main__\":\n",
    "    chuyendoinhietdo()\n"
   ]
  },
  {
   "cell_type": "code",
   "execution_count": null,
   "metadata": {},
   "outputs": [],
   "source": []
  }
 ],
 "metadata": {
  "interpreter": {
   "hash": "a51b9c65ca41eb897b8a46112ac528436fd02e82dee241d3e900bd4a030e9d03"
  },
  "kernelspec": {
   "display_name": "Python 3.10.0 64-bit",
   "language": "python",
   "name": "python3"
  },
  "language_info": {
   "codemirror_mode": {
    "name": "ipython",
    "version": 3
   },
   "file_extension": ".py",
   "mimetype": "text/x-python",
   "name": "python",
   "nbconvert_exporter": "python",
   "pygments_lexer": "ipython3",
   "version": "3.10.0"
  },
  "orig_nbformat": 4
 },
 "nbformat": 4,
 "nbformat_minor": 2
}
