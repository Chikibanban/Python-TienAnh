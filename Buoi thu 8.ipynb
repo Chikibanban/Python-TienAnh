{
 "cells": [
  {
   "cell_type": "code",
   "execution_count": 1,
   "metadata": {},
   "outputs": [
    {
     "name": "stdout",
     "output_type": "stream",
     "text": [
      "Xuat \t1\t Byebyeworld\n",
      "Xuat \t2\t Byebyeworld\n",
      "Xuat \t3\t Byebyeworld\n",
      "Xuat \t4\t Byebyeworld\n",
      "Xuat \t5\t Byebyeworld\n",
      "Xuat \t6\t Byebyeworld\n",
      "Xuat \t7\t Byebyeworld\n",
      "Xuat \t8\t Byebyeworld\n",
      "Xuat \t9\t Byebyeworld\n",
      "Xuat \t10\t Byebyeworld\n"
     ]
    }
   ],
   "source": [
    "def whileexcercise():\n",
    "    count = 0\n",
    "    while count < 10:\n",
    "        count += 1\n",
    "        print (\"Xuat \\t\"+ str(count) +\"\\t Byebyeworld\")\n",
    "\n",
    "\n",
    "if __name__ == \"__main__\":\n",
    "    whileexcercise()\n",
    "    "
   ]
  }
 ],
 "metadata": {
  "interpreter": {
   "hash": "a51b9c65ca41eb897b8a46112ac528436fd02e82dee241d3e900bd4a030e9d03"
  },
  "kernelspec": {
   "display_name": "Python 3.10.0 64-bit",
   "language": "python",
   "name": "python3"
  },
  "language_info": {
   "codemirror_mode": {
    "name": "ipython",
    "version": 3
   },
   "file_extension": ".py",
   "mimetype": "text/x-python",
   "name": "python",
   "nbconvert_exporter": "python",
   "pygments_lexer": "ipython3",
   "version": "3.10.0"
  },
  "orig_nbformat": 4
 },
 "nbformat": 4,
 "nbformat_minor": 2
}
