{
 "cells": [
  {
   "cell_type": "code",
   "execution_count": 1,
   "metadata": {},
   "outputs": [
    {
     "ename": "ValueError",
     "evalue": "invalid literal for int() with base 10: '5.5'",
     "output_type": "error",
     "traceback": [
      "\u001b[1;31m---------------------------------------------------------------------------\u001b[0m",
      "\u001b[1;31mValueError\u001b[0m                                Traceback (most recent call last)",
      "\u001b[1;32m~\\AppData\\Local\\Temp/ipykernel_18388/2294486978.py\u001b[0m in \u001b[0;36m<module>\u001b[1;34m\u001b[0m\n\u001b[0;32m     52\u001b[0m     \u001b[1;31m#dieukienlong()\u001b[0m\u001b[1;33m\u001b[0m\u001b[1;33m\u001b[0m\u001b[0m\n\u001b[0;32m     53\u001b[0m     \u001b[1;31m#dieukienIfElse()\u001b[0m\u001b[1;33m\u001b[0m\u001b[1;33m\u001b[0m\u001b[0m\n\u001b[1;32m---> 54\u001b[1;33m     \u001b[0mpracticetenaryoperator\u001b[0m\u001b[1;33m(\u001b[0m\u001b[1;33m)\u001b[0m\u001b[1;33m\u001b[0m\u001b[1;33m\u001b[0m\u001b[0m\n\u001b[0m",
      "\u001b[1;32m~\\AppData\\Local\\Temp/ipykernel_18388/2294486978.py\u001b[0m in \u001b[0;36mpracticetenaryoperator\u001b[1;34m()\u001b[0m\n\u001b[0;32m     31\u001b[0m \u001b[1;32mdef\u001b[0m \u001b[0mpracticetenaryoperator\u001b[0m\u001b[1;33m(\u001b[0m\u001b[1;33m)\u001b[0m\u001b[1;33m:\u001b[0m\u001b[1;33m\u001b[0m\u001b[1;33m\u001b[0m\u001b[0m\n\u001b[0;32m     32\u001b[0m     \u001b[1;31m#tenaryoperatormethod\u001b[0m\u001b[1;33m\u001b[0m\u001b[1;33m\u001b[0m\u001b[0m\n\u001b[1;32m---> 33\u001b[1;33m     \u001b[0mnum_check\u001b[0m \u001b[1;33m=\u001b[0m \u001b[0mint\u001b[0m\u001b[1;33m(\u001b[0m\u001b[0minput\u001b[0m\u001b[1;33m(\u001b[0m\u001b[1;34m\"Nhap so nguyen:\"\u001b[0m\u001b[1;33m)\u001b[0m\u001b[1;33m)\u001b[0m\u001b[1;33m\u001b[0m\u001b[1;33m\u001b[0m\u001b[0m\n\u001b[0m\u001b[0;32m     34\u001b[0m     \u001b[0mmsg\u001b[0m \u001b[1;33m=\u001b[0m \u001b[1;34m\"even\"\u001b[0m \u001b[1;32mif\u001b[0m \u001b[0mnum_check\u001b[0m \u001b[1;33m%\u001b[0m\u001b[1;36m2\u001b[0m \u001b[1;33m==\u001b[0m \u001b[1;36m0\u001b[0m \u001b[1;32melse\u001b[0m \u001b[1;34m\"Odd\"\u001b[0m\u001b[1;33m\u001b[0m\u001b[1;33m\u001b[0m\u001b[0m\n\u001b[0;32m     35\u001b[0m     \u001b[0mprint\u001b[0m \u001b[1;33m(\u001b[0m\u001b[0mmsg\u001b[0m\u001b[1;33m)\u001b[0m\u001b[1;33m\u001b[0m\u001b[1;33m\u001b[0m\u001b[0m\n",
      "\u001b[1;31mValueError\u001b[0m: invalid literal for int() with base 10: '5.5'"
     ]
    }
   ],
   "source": [
    "#Buoi 7\n",
    "def dieukienIF():\n",
    "    k = 100\n",
    "    if (k<=90):\n",
    "        print(\"k lon hon 90\")\n",
    "    print(\"ket qua ouput\")\n",
    "\n",
    "def dieukienIfElse():\n",
    "    a = int(input)\n",
    "    b = int(input)\n",
    "    if a==b:\n",
    "        print(\"a bang b\")\n",
    "    else:\n",
    "        print(\"a ko bang b\")\n",
    "\n",
    "def dieukienlong():\n",
    "    a=int(input)\n",
    "    b=int(input)\n",
    "    if a!=b:\n",
    "        if a>=b:\n",
    "            print (\"something is right\")\n",
    "        elif a<=b:\n",
    "            print (\"somthing is cool\")\n",
    "    else:\n",
    "        print(\"a khac b\")\n",
    "            \n",
    "def tenaryoperator():\n",
    "    a, b = 2, 5\n",
    "    max = a if a > b else b\n",
    "    print (max)\n",
    "def practicetenaryoperator():\n",
    "    #tenaryoperatormethod\n",
    "    num_check = int(input(\"Nhap so nguyen:\")) \n",
    "    msg = \"even\" if num_check %2 == 0 else \"Odd\"\n",
    "    print (msg)\n",
    "    #If-elsemethod\n",
    "def practiceifelsemethod():\n",
    "\n",
    "    num_check = int(input(\"Nhap so nguyen = \"))\n",
    "    msg = \"\" #gia tri bang NULL\n",
    "    if (num_check %2 == 0): #% chia lay du\n",
    "        msg=\"even\"\n",
    "    else:\n",
    "        msg = \"odd\"\n",
    "    print(msg)\n",
    "\n",
    "    \n",
    "    \n",
    "\n",
    "if __name__==\"__main__\":\n",
    "    #dieukienIF\n",
    "    #dieukienlong()\n",
    "    #dieukienIfElse()\n",
    "    #practicetenaryoperator()"
   ]
  }
 ],
 "metadata": {
  "interpreter": {
   "hash": "a51b9c65ca41eb897b8a46112ac528436fd02e82dee241d3e900bd4a030e9d03"
  },
  "kernelspec": {
   "display_name": "Python 3.10.0 64-bit",
   "language": "python",
   "name": "python3"
  },
  "language_info": {
   "codemirror_mode": {
    "name": "ipython",
    "version": 3
   },
   "file_extension": ".py",
   "mimetype": "text/x-python",
   "name": "python",
   "nbconvert_exporter": "python",
   "pygments_lexer": "ipython3",
   "version": "3.10.0"
  },
  "orig_nbformat": 4
 },
 "nbformat": 4,
 "nbformat_minor": 2
}
