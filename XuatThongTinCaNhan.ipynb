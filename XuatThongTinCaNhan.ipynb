{
 "cells": [
  {
   "cell_type": "code",
   "execution_count": 1,
   "id": "124d574b",
   "metadata": {},
   "outputs": [
    {
     "name": "stdout",
     "output_type": "stream",
     "text": [
      "Họ và tên: Nguyễn Quang Tiến Anh\n"
     ]
    }
   ],
   "source": [
    "print (\"Họ và tên: Nguyễn Quang Tiến Anh\")"
   ]
  },
  {
   "cell_type": "code",
   "execution_count": 2,
   "id": "e732e3f8",
   "metadata": {},
   "outputs": [
    {
     "name": "stdout",
     "output_type": "stream",
     "text": [
      "Ngày tháng năm sinh: 13/09/1997\n"
     ]
    }
   ],
   "source": [
    "print (\"Ngày tháng năm sinh: 13/09/1997\")"
   ]
  },
  {
   "cell_type": "code",
   "execution_count": 3,
   "id": "a9930e7c",
   "metadata": {},
   "outputs": [
    {
     "name": "stdout",
     "output_type": "stream",
     "text": [
      "Họ và tên: Nguyễn Quang Tiến Anh\n",
      "Ngày tháng năm sinh: 13/09/1997\n"
     ]
    }
   ],
   "source": [
    "print (\"Họ và tên: Nguyễn Quang Tiến Anh\")\n",
    "print (\"Ngày tháng năm sinh: 13/09/1997\")"
   ]
  },
  {
   "cell_type": "code",
   "execution_count": null,
   "id": "11d7e5b1",
   "metadata": {},
   "outputs": [],
   "source": []
  }
 ],
 "metadata": {
  "kernelspec": {
   "display_name": "Python 3",
   "language": "python",
   "name": "python3"
  },
  "language_info": {
   "codemirror_mode": {
    "name": "ipython",
    "version": 3
   },
   "file_extension": ".py",
   "mimetype": "text/x-python",
   "name": "python",
   "nbconvert_exporter": "python",
   "pygments_lexer": "ipython3",
   "version": "3.8.8"
  }
 },
 "nbformat": 4,
 "nbformat_minor": 5
}
