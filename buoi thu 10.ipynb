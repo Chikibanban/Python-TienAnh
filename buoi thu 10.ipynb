{
 "cells": [
  {
   "cell_type": "code",
   "execution_count": 1,
   "metadata": {},
   "outputs": [],
   "source": [
    "def vehinhvuongvonglapfor(a,b):\n",
    "    import turtle\n",
    "    wn =turtle.Screen()\n",
    "    wn.bgcolor(\"cyan\")\n",
    "    wn.title(\"square\")\n",
    "    pen = turtle.Turtle()\n",
    "    pen.speed(0)\n",
    "    \n",
    "    pen.fillcolor(\"purple\")\n",
    "    pen.begin_fill()\n",
    "    for i in range (4):\n",
    "        pen.fd(a)\n",
    "        pen.rt(b)\n",
    "    pen.end_fill()\n",
    "    \n",
    "    turtle.exitonclick\n",
    "\n",
    "if __name__ == \"__main__\":\n",
    "    vehinhvuongvonglapfor(200,90)\n"
   ]
  },
  {
   "cell_type": "code",
   "execution_count": 2,
   "metadata": {},
   "outputs": [],
   "source": [
    "def sudungnestedloopdeve(a,b):\n",
    "    import turtle\n",
    "    wn = turtle.Screen()\n",
    "    wn.title(\"Something\")\n",
    "    wn.bgcolor(\"black\")\n",
    "    t = turtle.Turtle()\n",
    "    t.speed(0)\n",
    "    t.fillcolor(\"yellow\")\n",
    "    t.begin_fill()\n",
    "    for i in range (1,100):\n",
    "        for i in range (1,6):\n",
    "            t.lt(a)\n",
    "            t.fd(b)\n",
    "        t.lt(5)\n",
    "    t.end_fill()\n",
    "    \n",
    "    turtle.exitonclick\n",
    "if __name__ == \"__main__\":\n",
    "    sudungnestedloopdeve(144, 200)"
   ]
  },
  {
   "cell_type": "code",
   "execution_count": 13,
   "metadata": {},
   "outputs": [
    {
     "name": "stdout",
     "output_type": "stream",
     "text": [
      "So be nhat la:  10\n",
      "So lon nhat la:  30\n",
      "buzz 10\n",
      "buzz 25\n",
      "So khong thoa man dieu kien 28\n"
     ]
    }
   ],
   "source": [
    "#FizzBuzz\n",
    "class fizzbuzz:\n",
    "\n",
    "    def main():\n",
    "        a, b = [int(a) for a in input(\"Nhap hai so bat ky: \").split()]\n",
    "        if a >= b:\n",
    "            print (\"Nhap lai\")\n",
    "        else:\n",
    "            print (\"So be nhat la: \", a)\n",
    "            print (\"So lon nhat la: \", b)\n",
    "            for i in range (a,b):\n",
    "                if i%3==0 and i%5==0:\n",
    "                    print(\"fizzbuzz\", i)\n",
    "                    continue\n",
    "                elif i%3==0:\n",
    "                    print(\"fizz\", i)\n",
    "                    continue\n",
    "                elif i%5==0:\n",
    "                    print(\"buzz\", i)\n",
    "                    continue\n",
    "            else:\n",
    "                print (\"So khong thoa man dieu kien\", i)    \n",
    "    if __name__ == \"__main__\":\n",
    "        main()\n",
    "\n",
    "            \n"
   ]
  },
  {
   "cell_type": "code",
   "execution_count": null,
   "metadata": {},
   "outputs": [],
   "source": [
    "#21games\n"
   ]
  },
  {
   "cell_type": "code",
   "execution_count": 6,
   "metadata": {},
   "outputs": [
    {
     "name": "stdout",
     "output_type": "stream",
     "text": [
      "PythonPythonPythonPythonPythonPythonPythonPythonPythonPythonPythonPythonPythonPythonPythonPythonPythonPythonPythonPythonPythonPythonPythonPythonPythonPythonPythonPythonPythonPythonPythonPythonPythonPythonPythonPythonPythonPythonPythonPython\n",
      "Python                                      Python\n",
      "Python                                      Python\n",
      "Python                                      Python\n",
      "Python                                      Python\n",
      "Python                                      Python\n",
      "Python                                      Python\n",
      "Python                                      Python\n",
      "Python                                      Python\n",
      "Python                                      Python\n",
      "Python                                      Python\n",
      "Python                                      Python\n",
      "Python                                      Python\n",
      "Python                                      Python\n",
      "Python                                      Python\n",
      "Python                                      Python\n",
      "Python                                      Python\n",
      "Python                                      Python\n",
      "Python                                      Python\n",
      "Python                                      Python\n",
      "Python                                      Python\n",
      "Python                                      Python\n",
      "Python                                      Python\n",
      "Python                                      Python\n",
      "Python                                      Python\n",
      "Python                                      Python\n",
      "Python                                      Python\n",
      "Python                                      Python\n",
      "Python                                      Python\n",
      "PythonPythonPythonPythonPythonPythonPythonPythonPythonPythonPythonPythonPythonPythonPythonPythonPythonPythonPythonPythonPythonPythonPythonPythonPythonPythonPythonPythonPythonPythonPythonPythonPythonPythonPythonPythonPythonPythonPythonPython\n"
     ]
    }
   ],
   "source": [
    "def vehinhvnnsnhkytu():\n",
    "    char = input('Your char?: ')\n",
    "    width = int(input('Width?: '))\n",
    "    height = int(input('Height?: '))\n",
    "\n",
    "    for i in range(1,height + 1):\n",
    "        print_str = ''\n",
    "        for j in range(1,width + 1):\n",
    "            if i == 1 or i == height:\n",
    "                print_str += char\n",
    "            else:\n",
    "                if j == 1 or j == width:\n",
    "                    print_str += char\n",
    "                else:\n",
    "                    print_str += ' '\n",
    "        print(print_str)\n",
    "if __name__ == \"__main__\":\n",
    "    vehinhvnnsnhkytu()"
   ]
  }
 ],
 "metadata": {
  "interpreter": {
   "hash": "a51b9c65ca41eb897b8a46112ac528436fd02e82dee241d3e900bd4a030e9d03"
  },
  "kernelspec": {
   "display_name": "Python 3.10.0 64-bit",
   "language": "python",
   "name": "python3"
  },
  "language_info": {
   "codemirror_mode": {
    "name": "ipython",
    "version": 3
   },
   "file_extension": ".py",
   "mimetype": "text/x-python",
   "name": "python",
   "nbconvert_exporter": "python",
   "pygments_lexer": "ipython3",
   "version": "3.10.0"
  },
  "orig_nbformat": 4
 },
 "nbformat": 4,
 "nbformat_minor": 2
}
