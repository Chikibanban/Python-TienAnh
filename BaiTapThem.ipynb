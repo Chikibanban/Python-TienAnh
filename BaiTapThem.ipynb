{
 "cells": [
  {
   "cell_type": "code",
   "execution_count": 4,
   "metadata": {},
   "outputs": [
    {
     "name": "stdout",
     "output_type": "stream",
     "text": [
      "80 khong phai la so nguyen to\n"
     ]
    }
   ],
   "source": [
    "def hamktsnt(n):\n",
    "    #so nguyen to la co uoc = 1 va chinh no\n",
    "    #flag = 1 = true or = 0 = false\n",
    "    flag = 1;\n",
    "    if (n < 2): #so nho hon 2 khong phai la nguyen to\n",
    "        flag = 0\n",
    "        return flag\n",
    "    #dung vong lap de kiem tra uoc so\n",
    "    for i in range (2,n):\n",
    "        if n % i == 0:\n",
    "            flag = 0\n",
    "            break\n",
    "    return flag\n",
    "\n",
    "    "
   ]
  },
  {
   "cell_type": "code",
   "execution_count": 76,
   "metadata": {},
   "outputs": [
    {
     "name": "stdout",
     "output_type": "stream",
     "text": [
      "5 la so nguyen to\n",
      "1\n",
      "5\n",
      "Tinh tong tat ca cac so nguyen to la: 6\n"
     ]
    }
   ],
   "source": [
    "n = int(input(\"Nhap so tu nhien:\"))\n",
    "check = hamktsnt(n)\n",
    "sum = 0\n",
    "if check == 1:\n",
    "    print(n,\"la so nguyen to\")\n",
    "else:\n",
    "    print (n,\"khong phai la so nguyen to\")\n",
    "for i in range (1,n+1,1):\n",
    "        if n % i == 0 and check == 1:\n",
    "            print(i)\n",
    "            sum +=i\n",
    "print(\"Tinh tong tat ca cac so nguyen to la:\", sum)\n",
    "    "
   ]
  },
  {
   "cell_type": "code",
   "execution_count": 62,
   "metadata": {},
   "outputs": [
    {
     "name": "stdout",
     "output_type": "stream",
     "text": [
      "id ugn id\n"
     ]
    }
   ],
   "source": [
    "#Dao nguoc chuoi\n",
    "def reservingorder():\n",
    "    my_string = \"di ngu di\"\n",
    "    print(my_string[::-1])\n",
    "if __name__ == \"__main__\":\n",
    "    reservingorder()\n",
    "    "
   ]
  },
  {
   "cell_type": "code",
   "execution_count": 74,
   "metadata": {},
   "outputs": [
    {
     "name": "stdout",
     "output_type": "stream",
     "text": [
      "10\n"
     ]
    }
   ],
   "source": [
    "#Tinh tong binh phuong cua cac so tu 1 den n\n",
    "def calculaten():\n",
    "    sum = 0\n",
    "    n = int(input(\"Nhap so n bat ky:\"))\n",
    "    \n",
    "    for i in range(1,n+1,1):\n",
    "       i*=i\n",
    "       sum+=i \n",
    "    print(sum)\n",
    "\n",
    "if __name__ == \"__main__\":\n",
    "    calculaten()\n",
    "        "
   ]
  },
  {
   "cell_type": "code",
   "execution_count": 79,
   "metadata": {},
   "outputs": [
    {
     "name": "stdout",
     "output_type": "stream",
     "text": [
      "Uoc so chung lon nhan cua 10 va 20 la: 10\n"
     ]
    }
   ],
   "source": [
    "# tim uoc so cua hai so bat ky\n",
    "#thuat toan Euclid\n",
    "def USCLN(a,b):\n",
    "    if (b == 0):\n",
    "        return a;\n",
    "    return USCLN(b, a % b);\n",
    "a = int(input(\"Nhap so nguyen duong a = \"));\n",
    "b = int(input(\"Nhap so nguyen duong b = \"));\n",
    "print(\"Uoc so chung lon nhan cua\", a, \"va\", b, \"la:\", USCLN(a,b))\n"
   ]
  },
  {
   "cell_type": "code",
   "execution_count": 91,
   "metadata": {},
   "outputs": [
    {
     "name": "stdout",
     "output_type": "stream",
     "text": [
      "6\n"
     ]
    }
   ],
   "source": [
    "def tongab(a , b):\n",
    "    sum = a+b\n",
    "    return sum\n",
    "    \n",
    "\n",
    "sum = tongab(5,6)\n",
    "print (sum)\n",
    "if __name__ == \"__main__\":\n",
    "    tongab(5, 6)\n",
    "    "
   ]
  }
 ],
 "metadata": {
  "language_info": {
   "name": "python"
  },
  "orig_nbformat": 4
 },
 "nbformat": 4,
 "nbformat_minor": 2
}
