{
 "cells": [
  {
   "cell_type": "code",
   "execution_count": 4,
   "metadata": {},
   "outputs": [],
   "source": [
    "def hamktsnttrenmang(n):\n",
    "    #Tham khao tren mang\n",
    "    #so nguyen to la co uoc = 1 va chinh no\n",
    "    #flag = 1 = True \n",
    "    #flag = 0 = False\n",
    "    flag = True;\n",
    "    if (n < 2): #so nho hon 2 khong phai la nguyen to\n",
    "        flag = False\n",
    "        return flag\n",
    "    #dung vong lap de kiem tra uoc so\n",
    "    for i in range (2,n): #chay lap trong khoang tu 2 den n\n",
    "        if n % i == 0: #neu N chia het cho i suy ra ko phair la so nguyen to\n",
    "            flag = False\n",
    "            break        \n",
    "    return flag\n",
    "\n",
    "    "
   ]
  },
  {
   "cell_type": "code",
   "execution_count": 53,
   "metadata": {},
   "outputs": [
    {
     "name": "stdout",
     "output_type": "stream",
     "text": [
      "True\n"
     ]
    }
   ],
   "source": [
    "def hamktsnttulam(n):\n",
    "    #DN: so nguyen to la so co uoc = 1 va chinh no va lon hon 1\n",
    "    #SNT <2 = ko du dieu kien\n",
    "    #SNT == 2 la SNT\n",
    "    #SNt = even ko phai la SNT\n",
    "    #Neu so nhap vao la so le => ko phai la SNT\n",
    "    #cach kiem tra so le??? for i in range(1,n,2)\n",
    "    #GT for i in range(1,n,2) la no se bat dau tu 1, nhay 2 so = 3 va no se dung o n\n",
    "    \n",
    "    flag = True\n",
    "    if (n<2):\n",
    "        flag= False\n",
    "        return flag\n",
    "    elif(n == 2):\n",
    "        flag = True\n",
    "        return flag\n",
    "    elif(n % 2 == 0):\n",
    "        flag = False\n",
    "        return flag\n",
    "    else:\n",
    "        for i in range(3,n,2):\n",
    "            if (n % i == 0):\n",
    "                flag = False\n",
    "                break\n",
    "    return flag\n",
    "    \n",
    "if __name__ == \"__main__\":\n",
    "    n = (int(input()))\n",
    "    print(hamktsnttulam(n))"
   ]
  },
  {
   "cell_type": "code",
   "execution_count": 38,
   "metadata": {},
   "outputs": [
    {
     "name": "stdout",
     "output_type": "stream",
     "text": [
      "5 khong phai la so nguyen to\n",
      "Tinh tong tat ca cac so nguyen to la: 0\n"
     ]
    }
   ],
   "source": [
    "n = int(input(\"Nhap so tu nhien:\"))\n",
    "check = hamktsnttulam(n)\n",
    "sum = 0\n",
    "if check == True:\n",
    "    print(n,\"la so nguyen to\")\n",
    "else:\n",
    "    print (n,\"khong phai la so nguyen to\")\n",
    "for i in range (1,n+1):\n",
    "        if n % i == 0 and check == True:\n",
    "            print(i)\n",
    "            sum +=i\n",
    "print(\"Tinh tong tat ca cac so nguyen to la:\", sum)\n",
    "    "
   ]
  },
  {
   "cell_type": "code",
   "execution_count": 62,
   "metadata": {},
   "outputs": [
    {
     "name": "stdout",
     "output_type": "stream",
     "text": [
      "id ugn id\n"
     ]
    }
   ],
   "source": [
    "#Dao nguoc chuoi\n",
    "def reservingorder():\n",
    "    my_string = \"di ngu di\"\n",
    "    print(my_string[::-1])\n",
    "if __name__ == \"__main__\":\n",
    "    reservingorder()\n",
    "    "
   ]
  },
  {
   "cell_type": "code",
   "execution_count": 74,
   "metadata": {},
   "outputs": [
    {
     "name": "stdout",
     "output_type": "stream",
     "text": [
      "10\n"
     ]
    }
   ],
   "source": [
    "#Tinh tong binh phuong cua cac so tu 1 den n\n",
    "def calculaten():\n",
    "    sum = 0\n",
    "    n = int(input(\"Nhap so n bat ky:\"))\n",
    "    \n",
    "    for i in range(1,n+1,1):\n",
    "       i*=i\n",
    "       sum+=i \n",
    "    print(sum)\n",
    "\n",
    "if __name__ == \"__main__\":\n",
    "    calculaten()\n",
    "        "
   ]
  },
  {
   "cell_type": "code",
   "execution_count": 79,
   "metadata": {},
   "outputs": [
    {
     "name": "stdout",
     "output_type": "stream",
     "text": [
      "Uoc so chung lon nhan cua 10 va 20 la: 10\n"
     ]
    }
   ],
   "source": [
    "# tim uoc so cua hai so bat ky\n",
    "#thuat toan Euclid\n",
    "def USCLN(a,b):\n",
    "    if (b == 0):\n",
    "        return a;\n",
    "    return USCLN(b, a % b);\n",
    "a = int(input(\"Nhap so nguyen duong a = \"));\n",
    "b = int(input(\"Nhap so nguyen duong b = \"));\n",
    "print(\"Uoc so chung lon nhan cua\", a, \"va\", b, \"la:\", USCLN(a,b))\n"
   ]
  },
  {
   "cell_type": "code",
   "execution_count": 91,
   "metadata": {},
   "outputs": [
    {
     "name": "stdout",
     "output_type": "stream",
     "text": [
      "6\n"
     ]
    }
   ],
   "source": [
    "def tongab(a , b):\n",
    "    sum = a+b\n",
    "    return sum\n",
    "    \n",
    "\n",
    "sum = tongab(5,6)\n",
    "print (sum)\n",
    "if __name__ == \"__main__\":\n",
    "    tongab(5, 6)\n",
    "    "
   ]
  }
 ],
 "metadata": {
  "interpreter": {
   "hash": "a51b9c65ca41eb897b8a46112ac528436fd02e82dee241d3e900bd4a030e9d03"
  },
  "kernelspec": {
   "display_name": "Python 3.10.0 64-bit",
   "language": "python",
   "name": "python3"
  },
  "language_info": {
   "codemirror_mode": {
    "name": "ipython",
    "version": 3
   },
   "file_extension": ".py",
   "mimetype": "text/x-python",
   "name": "python",
   "nbconvert_exporter": "python",
   "pygments_lexer": "ipython3",
   "version": "3.10.0"
  },
  "orig_nbformat": 4
 },
 "nbformat": 4,
 "nbformat_minor": 2
}
