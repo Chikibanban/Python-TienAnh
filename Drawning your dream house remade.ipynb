{
 "cells": [
  {
   "cell_type": "code",
   "execution_count": 3,
   "metadata": {},
   "outputs": [],
   "source": [
    "#Settingup\n",
    "import turtle\n",
    "from turtle import Screen, Turtle\n",
    "house=turtle.Turtle()\n",
    "house.pensize(2)\n",
    "house.speed(6)\n",
    "screen = Screen()\n",
    "turtle.exitonclick\n",
    "\n",
    "COL = (0.3, 0.0 , 0.3)  \n",
    "TAR = (0.86328, 0.47656, 0.31250)  \n",
    "\n",
    "screen.tracer(False)\n",
    "\n",
    "WID, HEIG = screen.window_width(), screen.window_height()\n",
    "\n",
    "delt = [(red - COL[index]) / HEIG for index, red in enumerate(TAR)]\n",
    "\n",
    "house.color(COL)\n",
    "\n",
    "house.penup()\n",
    "house.goto(-WID/2, HEIG/2)\n",
    "house.pendown()\n",
    "\n",
    "direction = 1\n",
    "\n",
    "for distance, y in enumerate(range(HEIG//2, -HEIG//2, -1)):\n",
    "\n",
    "    house.forward(WID * direction)\n",
    "    house.color([COL[i] + delta * distance for i, delta in enumerate(delt)])\n",
    "    house.sety(y)\n",
    "\n",
    "    direction *= -1\n",
    "\n",
    "screen.tracer(True)\n",
    "screen.exitonclick()\n"
   ]
  }
 ],
 "metadata": {
  "interpreter": {
   "hash": "a51b9c65ca41eb897b8a46112ac528436fd02e82dee241d3e900bd4a030e9d03"
  },
  "kernelspec": {
   "display_name": "Python 3.10.0 64-bit",
   "language": "python",
   "name": "python3"
  },
  "language_info": {
   "codemirror_mode": {
    "name": "ipython",
    "version": 3
   },
   "file_extension": ".py",
   "mimetype": "text/x-python",
   "name": "python",
   "nbconvert_exporter": "python",
   "pygments_lexer": "ipython3",
   "version": "3.10.0"
  },
  "orig_nbformat": 4
 },
 "nbformat": 4,
 "nbformat_minor": 2
}
