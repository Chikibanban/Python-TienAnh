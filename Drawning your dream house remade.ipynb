{
 "cells": [
  {
   "cell_type": "code",
   "execution_count": 3,
   "metadata": {},
   "outputs": [
    {
     "data": {
      "text/plain": [
       "<function turtle.exitonclick()>"
      ]
     },
     "execution_count": 3,
     "metadata": {},
     "output_type": "execute_result"
    }
   ],
   "source": [
    "#Settingup\n",
    "import turtle\n",
    "from turtle import Screen, Turtle\n",
    "house = turtle.Turtle()\n",
    "house.pensize(2)\n",
    "house.speed(6)\n",
    "screen = Screen()\n",
    "screen.setup(1920 + 4, 1080 + 8)\n",
    "screen.setworldcoordinates(0, 0, 1920, 1080)\n",
    "turtle.exitonclick\n",
    "\n",
    "def setupbgcolor(upper):\n",
    "        \n",
    "    \n"
   ]
  }
 ],
 "metadata": {
  "interpreter": {
   "hash": "a51b9c65ca41eb897b8a46112ac528436fd02e82dee241d3e900bd4a030e9d03"
  },
  "kernelspec": {
   "display_name": "Python 3.10.0 64-bit",
   "language": "python",
   "name": "python3"
  },
  "language_info": {
   "codemirror_mode": {
    "name": "ipython",
    "version": 3
   },
   "file_extension": ".py",
   "mimetype": "text/x-python",
   "name": "python",
   "nbconvert_exporter": "python",
   "pygments_lexer": "ipython3",
   "version": "3.10.0"
  },
  "orig_nbformat": 4
 },
 "nbformat": 4,
 "nbformat_minor": 2
}
