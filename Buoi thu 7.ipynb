{
 "cells": [
  {
   "cell_type": "code",
   "execution_count": 22,
   "metadata": {},
   "outputs": [
    {
     "name": "stdout",
     "output_type": "stream",
     "text": [
      "Sorry, I don't have this shape :(\n"
     ]
    }
   ],
   "source": [
    "def drawandcoloring():\n",
    "    import turtle\n",
    "\n",
    "    shapeInput = input('Circle and square, what is your favorite shape?:')\n",
    "\n",
    "    if shapeInput == 'circle' or shapeInput == 'square':\n",
    "        colorInput = input('What color will it be?, #ADD8E6, #FFD700 or #FFA500? :')\n",
    "    \n",
    "        if colorInput == '#ADD8E6' or colorInput == '#FFD700' or colorInput == '#FFD700':\n",
    "            k = turtle.Screen()\n",
    "            k.bgcolor(\"white\")\n",
    "            k.title(\"Your shape\")\n",
    "\n",
    "            displayShape = turtle.Turtle()\n",
    "            displayShape.shape(shapeInput)\n",
    "            displayShape.color(colorInput)\n",
    "        \n",
    "            turtle.exitonclick()\n",
    "        \n",
    "        else:\n",
    "            print(\"Sorry, I don't have this color :(\")\n",
    "    else:\n",
    "        print(\"Sorry, I don't have this shape :(\")\n",
    "\n",
    "if __name__ == \"__main__\":\n",
    "    drawandcoloring()\n"
   ]
  },
  {
   "cell_type": "code",
   "execution_count": 28,
   "metadata": {},
   "outputs": [],
   "source": [
    "def coloringshape():\n",
    "    import turtle\n",
    "    import random\n",
    "    number = random.uniform(0, 6)\n",
    "    intnumber = int(number)\n",
    "    cs = turtle.Screen()\n",
    "    cs.bgcolor(\"skyblue\")\n",
    "    cs.title(\"square\")\n",
    "    sq = turtle.Turtle()\n",
    "    sq.shape(\"square\")\n",
    "    if intnumber<1:\n",
    "        sq.color(\"red\")\n",
    "    elif intnumber < 3:\n",
    "        sq.color(\"blue\")\n",
    "    elif intnumber < 6:\n",
    "        sq.color(\"gold\")\n",
    "    turtle.exitonclick()\n",
    "if __name__ == \"__main__\":\n",
    "    coloringshape()\n",
    "        "
   ]
  },
  {
   "cell_type": "code",
   "execution_count": 33,
   "metadata": {},
   "outputs": [
    {
     "name": "stdout",
     "output_type": "stream",
     "text": [
      "Thu Tu\n",
      "Thang 4\n"
     ]
    }
   ],
   "source": [
    "def week(i):\n",
    "    switcher={\n",
    "            0:\"Chu nhat\",\n",
    "            1:\"Thu Hai\",\n",
    "            2:\"Thu Ba\",\n",
    "            3:\"Thu Tu\",\n",
    "            4:\"Thu Nam\",\n",
    "            5:\"Thu Sau\",\n",
    "            6:\"Thu Bay\"\n",
    "        }\n",
    "    return switcher.get(i,\"Ngay ko co trong tuan\")    \n",
    "\n",
    "def month(i1):\n",
    "    switcher={\n",
    "            1:\"Thang 1\",\n",
    "            2:\"Thang 2\",\n",
    "            3:\"Thang 3\",\n",
    "            4:\"Thang 4\",\n",
    "            5:\"Thang 5\",\n",
    "            6:\"Thang 6\"\n",
    "        }\n",
    "    return switcher.get(i1,\"invalid month\")\n",
    "\n",
    "if __name__ == \"__main__\":\n",
    "   i = int(input())\n",
    "   print (week(i))\n",
    "   i1 = int(input())\n",
    "   print (month(i1))\n",
    "# Lam the vd cac mua trong nam\n",
    "    \n",
    "    \n",
    "    "
   ]
  },
  {
   "cell_type": "code",
   "execution_count": 39,
   "metadata": {},
   "outputs": [
    {
     "name": "stdout",
     "output_type": "stream",
     "text": [
      "Odd\n"
     ]
    }
   ],
   "source": [
    "def practicetenaryoperator():\n",
    "    num_check = (int(input(\"Nhap so nguyen = \")))\n",
    "    msg = \"Even\" if num_check %2 == 0 else \"Odd\"\n",
    "    print(msg)\n",
    "\n",
    "\n",
    "def practiceelseif():\n",
    "    num_check = (int(input(\"Nhap so nguyen = \")))\n",
    "    if num_check % 2 == 0:\n",
    "        print(\"Even\")\n",
    "    else:\n",
    "        print(\"Odd\")\n",
    "if __name__ == \"__main__\":\n",
    "    #practicetenaryoperator()\n",
    "    #practiceelseif()"
   ]
  },
  {
   "cell_type": "code",
   "execution_count": 31,
   "metadata": {},
   "outputs": [
    {
     "name": "stdout",
     "output_type": "stream",
     "text": [
      "Duoc giam 50$ \n",
      "Tong: 110\n"
     ]
    }
   ],
   "source": [
    "def bill():\n",
    "    a = int(input(\"Nhap so tien da chi: \"))\n",
    "\n",
    "    if a >= 150:\n",
    "        print(\"Duoc giam 25$\",\"\\nTong:\", a - 50)\n",
    "    elif a >= 100:\n",
    "        print(\"Duoc giam 50$\",\"\\nTong:\", a - 25)\n",
    "    elif a >= 75:\n",
    "        print(\"Duoc giam 15$\",\"\\nTong:\", a - 15)\n",
    "    else:\n",
    "        print(\"Khong duoc giam gia\", \"\\nTong: {a}\".format(a=a))\n",
    "\n",
    "if __name__ == \"__main__\":\n",
    "    bill()"
   ]
  },
  {
   "cell_type": "code",
   "execution_count": 47,
   "metadata": {},
   "outputs": [
    {
     "name": "stdout",
     "output_type": "stream",
     "text": [
      "Binh Thuong:  \n",
      "Chi so BMI=  18.57\n"
     ]
    }
   ],
   "source": [
    "def bmicalculation():\n",
    "    a = float(input(\"Nhap chieu cao: \"))\n",
    "    b = int(input(\"Nhap can nang: \"))\n",
    "    BMI = b / (a * 2)\n",
    "    if BMI > 40:\n",
    "        print(\"Beo phi cap do III: \", \"\\nChi so BMI= \", \"%.2f\"%BMI)\n",
    "    elif 35 <= BMI < 40:\n",
    "        print(\"Beo phi cap do II: \", \"\\nChi so BMI= \", \"%.2f\"%BMI)\n",
    "    elif 30<= BMI < 35:\n",
    "         print(\"Beo phi cap do I: \", \"\\nChi so BMI= \", \"%.2f\"%BMI)\n",
    "    elif 25<= BMI < 30:\n",
    "        print(\"Thua can: \", \"\\nChi so BMI= \", \"%.2f\"%BMI)\n",
    "    elif 18.5<= BMI < 25:\n",
    "        print(\"Binh Thuong: \", \"\\nChi so BMI= \", \"%.2f\"%BMI)\n",
    "    elif 17<= BMI < 18.5:\n",
    "        print(\"Gay cap do I\", \"\\nChi so BMI= \", \"%.2f\"%BMI)\n",
    "    elif 16 <= BMI < 17:\n",
    "        print(\"Gay cap do II\", \"\\nChi so BMI= \", \"%.2f\"%BMI)\n",
    "    else:\n",
    "        print(\"Gay cap do III: \", \"\\nChi so BMI= \", \"%.2f\"%BMI)\n",
    "\n",
    "if __name__ == \"__main__\":\n",
    "    bmicalculation()\n",
    "\n",
    "            \n",
    "        \n",
    "\n",
    "    \n",
    "    "
   ]
  }
 ],
 "metadata": {
  "interpreter": {
   "hash": "a51b9c65ca41eb897b8a46112ac528436fd02e82dee241d3e900bd4a030e9d03"
  },
  "kernelspec": {
   "display_name": "Python 3.10.0 64-bit",
   "language": "python",
   "name": "python3"
  },
  "language_info": {
   "codemirror_mode": {
    "name": "ipython",
    "version": 3
   },
   "file_extension": ".py",
   "mimetype": "text/x-python",
   "name": "python",
   "nbconvert_exporter": "python",
   "pygments_lexer": "ipython3",
   "version": "3.10.0"
  },
  "orig_nbformat": 4
 },
 "nbformat": 4,
 "nbformat_minor": 2
}
